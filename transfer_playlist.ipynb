{
 "cells": [
  {
   "cell_type": "code",
   "execution_count": null,
   "metadata": {},
   "outputs": [],
   "source": [
    "import spotipy\n",
    "from spotipy.oauth2 import SpotifyOAuth\n",
    "import csv\n",
    "import pickle\n",
    "from ytmusicapi import YTMusic\n",
    "ytmusic = YTMusic(\"headers_auth.json\")\n",
    "\n"
   ]
  },
  {
   "cell_type": "code",
   "execution_count": null,
   "metadata": {},
   "outputs": [],
   "source": [
    "def get_all_playlist_songs(playlist_id):\n",
    "    point = 0\n",
    "    songs = []\n",
    "    songstrings = []\n",
    "    while True:\n",
    "        songs_list = sp.playlist_tracks(playlist_id,limit = 20, offset=point)['items']\n",
    "        if len(songs_list) == 0:\n",
    "            break\n",
    "        else:\n",
    "            songs = songs + songs_list\n",
    "            point = point + 20\n",
    "    for idx, track in enumerate(songs):\n",
    "        #print(point, \"   |||   Artist: \", track['track']['artists'][0]['name'], \"  |||   Title: \",track['track']['name'])\n",
    "        artist = track['track']['artists'][0]['name']\n",
    "        name = track['track']['name']\n",
    "        full_search = name + ' ' + artist\n",
    "        songstrings.append(full_search)\n",
    "    return songstrings\n",
    "\n",
    "def make_yt_playlist(playlistname):\n",
    "    playlistId = ytmusic.create_playlist(playlistname, \"description\")\n",
    "    return playlistId\n",
    "\n",
    "def search_youtube_for_song(songstring):\n",
    "    search_results = []\n",
    "    search_results = ytmusic.search(songstring)\n",
    "    ii = 0\n",
    "    for x in search_results:\n",
    "        ii =ii +1\n",
    "        try:\n",
    "            if ii > 10:\n",
    "                print(\"Failed: \", songstring)\n",
    "                videoId = \"\"\n",
    "                break\n",
    "                \n",
    "            else:\n",
    "                videoId = x['videoId']\n",
    "                break\n",
    "                \n",
    "        except:\n",
    "            print(\"not first song\")\n",
    "            continue   \n",
    "    return videoId\n",
    "\n",
    "def add_song_to_YT_playlist(playlistId, videoID):\n",
    "    ytmusic.add_playlist_items(playlistId, [videoID])\n",
    "    "
   ]
  },
  {
   "cell_type": "code",
   "execution_count": null,
   "metadata": {},
   "outputs": [],
   "source": [
    "scope = \"user-library-read\"\n",
    "sp = spotipy.Spotify(auth_manager=SpotifyOAuth(scope=scope))\n",
    "playlist_list = []\n",
    "playlist_ids = []\n",
    "offset_i = 0\n",
    "for ik in range(10):\n",
    "    playlist = sp.current_user_playlists(offset= offset_i, limit= 20)\n",
    "    offset_i = offset_i + 20\n",
    "    for i in playlist['items']:\n",
    "        print(i['name'])\n",
    "        playlist_list.append(i['name'])\n",
    "        playlist_ids.append(i['id'])"
   ]
  },
  {
   "cell_type": "code",
   "execution_count": null,
   "metadata": {},
   "outputs": [],
   "source": [
    "len(playlist_list)"
   ]
  },
  {
   "cell_type": "code",
   "execution_count": null,
   "metadata": {},
   "outputs": [],
   "source": [
    "for idx, plname in enumerate(playlist_list):\n",
    "    playlistID = make_yt_playlist(plname)\n",
    "    songsearch = get_all_playlist_songs(playlist_ids[idx])\n",
    "    for i in songsearch:\n",
    "        vidID = search_youtube_for_song(i)\n",
    "        if len(vidID) != 0:\n",
    "            add_song_to_YT_playlist(playlistID,vidID)"
   ]
  },
  {
   "cell_type": "markdown",
   "metadata": {},
   "source": []
  }
 ],
 "metadata": {
  "kernelspec": {
   "display_name": "Python 3.8.3 32-bit",
   "language": "python",
   "name": "python3"
  },
  "language_info": {
   "codemirror_mode": {
    "name": "ipython",
    "version": 3
   },
   "file_extension": ".py",
   "mimetype": "text/x-python",
   "name": "python",
   "nbconvert_exporter": "python",
   "pygments_lexer": "ipython3",
   "version": "3.8.3"
  },
  "orig_nbformat": 4,
  "vscode": {
   "interpreter": {
    "hash": "1f7d5f6f731af8413971f3a2843633443c6702f03427e5223ebc0954edb24616"
   }
  }
 },
 "nbformat": 4,
 "nbformat_minor": 2
}
