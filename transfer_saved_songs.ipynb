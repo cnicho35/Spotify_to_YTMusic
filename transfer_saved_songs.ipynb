{
 "cells": [
  {
   "cell_type": "code",
   "execution_count": null,
   "metadata": {},
   "outputs": [],
   "source": [
    "import pickle\n",
    "from ytmusicapi import YTMusic    \n",
    "ytmusic = YTMusic(\"headers_auth.json\") # See YTmusicAPI github for help with issues here\n",
    "\n",
    "\n",
    "with open('all_spotify_tracks.pickle', 'rb') as handle:\n",
    "    all_songs = pickle.load(handle)\n",
    "\n",
    "all_songs.reverse() #adds your oldest songs first so they stay at the bottom\n",
    "length = len(all_songs)\n"
   ]
  },
  {
   "cell_type": "code",
   "execution_count": null,
   "metadata": {},
   "outputs": [],
   "source": [
    "good = [] #bin for sucessful songs\n",
    "bad = [] #bin for failed songs\n",
    "it = 0\n",
    "goodct = 0\n",
    "badct = 0\n",
    "\n",
    "## If your save fails in the middle adjust start_at so you can skip all the songs you already added\n",
    "start_at = 0\n",
    "\n",
    "for track in all_songs:\n",
    "    it = it+1\n",
    "    print(it, \"out of \", length, \" , good: \", goodct, \" , bad:  \", badct)\n",
    "    if it < start_at:\n",
    "        continue\n",
    "    \n",
    "    \n",
    "    try:\n",
    "\n",
    "        artist = track['album']['artists'][0]['name']\n",
    "        name = track['name']\n",
    "        full_search = name + ' ' + artist\n",
    "        \n",
    "        search_results = ytmusic.search(full_search)\n",
    "        ii = 0\n",
    "        for x in search_results:\n",
    "            ii =ii +1\n",
    "            try:\n",
    "                if ii > 3:\n",
    "                    print(\"Failed: \", full_search)\n",
    "                    bad.append(track)\n",
    "                    badct = badct +1\n",
    "                    break\n",
    "\n",
    "                #ytmusic.add_playlist_items(playlistId, [x['videoId']])\n",
    "                ytmusic.rate_song(x['videoId'],'LIKE')\n",
    "                print(\"Added: \", full_search)\n",
    "                good.append(track)\n",
    "                goodct = goodct +1\n",
    "                break\n",
    "                \n",
    "            except:\n",
    "                print(\"Failed: \", full_search)\n",
    "                bad.append(track)\n",
    "                badct = badct +1\n",
    "                continue   \n",
    "\n",
    "    except KeyboardInterrupt:\n",
    "        break\n"
   ]
  },
  {
   "cell_type": "code",
   "execution_count": null,
   "metadata": {},
   "outputs": [],
   "source": [
    "#Save good and bad for your records\n",
    "with open('good_tracks.pickle', 'wb') as handle:\n",
    "    pickle.dump(good, handle, protocol=pickle.HIGHEST_PROTOCOL)\n",
    "with open('bad_tracks.pickle', 'wb') as handle:\n",
    "    pickle.dump(bad, handle, protocol=pickle.HIGHEST_PROTOCOL)\n"
   ]
  }
 ],
 "metadata": {
  "kernelspec": {
   "display_name": "Python 3.8.3 32-bit",
   "language": "python",
   "name": "python3"
  },
  "language_info": {
   "codemirror_mode": {
    "name": "ipython",
    "version": 3
   },
   "file_extension": ".py",
   "mimetype": "text/x-python",
   "name": "python",
   "nbconvert_exporter": "python",
   "pygments_lexer": "ipython3",
   "version": "3.8.3"
  },
  "orig_nbformat": 4,
  "vscode": {
   "interpreter": {
    "hash": "1f7d5f6f731af8413971f3a2843633443c6702f03427e5223ebc0954edb24616"
   }
  }
 },
 "nbformat": 4,
 "nbformat_minor": 2
}
